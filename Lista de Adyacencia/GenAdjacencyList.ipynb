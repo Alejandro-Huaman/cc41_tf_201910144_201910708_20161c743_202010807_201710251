{
  "nbformat": 4,
  "nbformat_minor": 0,
  "metadata": {
    "colab": {
      "name": "GenAdjacencyList.ipynb",
      "provenance": [],
      "collapsed_sections": []
    },
    "kernelspec": {
      "name": "python3",
      "display_name": "Python 3"
    },
    "language_info": {
      "name": "python"
    }
  },
  "cells": [
    {
      "cell_type": "code",
      "metadata": {
        "id": "VgAWqx2untEX"
      },
      "source": [
        "from google.colab import files"
      ],
      "execution_count": null,
      "outputs": []
    },
    {
      "cell_type": "code",
      "metadata": {
        "id": "Cu4seMS3qHKs"
      },
      "source": [
        "def getSideNodes(i, j, size):\n",
        "  nodes = \"\"\n",
        "  coordToNum = lambda x, y:(x * size) + y + (1 * x)\n",
        "  if(i + 1 <= size):\n",
        "    nodes += str(coordToNum(i + 1, j)) + \" \"\n",
        "  if(i - 1 >= 0):\n",
        "    nodes += str(coordToNum(i - 1, j)) + \" \"\n",
        "  if(j + 1 <= size):\n",
        "    nodes += str(coordToNum(i, j + 1)) + \" \"\n",
        "  if(j - 1 >= 0):\n",
        "    nodes += str(coordToNum(i, j - 1))\n",
        "  return nodes"
      ],
      "execution_count": null,
      "outputs": []
    },
    {
      "cell_type": "code",
      "metadata": {
        "id": "o2jK6I4dnjPx"
      },
      "source": [
        "def writeAdjacency(f,size):\n",
        "  for i in range(size):\n",
        "    for j in range(size):\n",
        "      f.write(f'{getSideNodes(i,j,size)}' + '\\n')"
      ],
      "execution_count": null,
      "outputs": []
    },
    {
      "cell_type": "code",
      "metadata": {
        "colab": {
          "base_uri": "https://localhost:8080/",
          "height": 34
        },
        "id": "xwKF3-3-m6Fe",
        "outputId": "6fccb105-d9fc-4573-e4d3-ecc8f489fadc"
      },
      "source": [
        "with open('adjList.in', 'w') as f:\n",
        "  writeAdjacency(f, 1000)\n",
        "files.download('adjList.in')"
      ],
      "execution_count": null,
      "outputs": [
        {
          "output_type": "display_data",
          "data": {
            "application/javascript": [
              "\n",
              "    async function download(id, filename, size) {\n",
              "      if (!google.colab.kernel.accessAllowed) {\n",
              "        return;\n",
              "      }\n",
              "      const div = document.createElement('div');\n",
              "      const label = document.createElement('label');\n",
              "      label.textContent = `Downloading \"${filename}\": `;\n",
              "      div.appendChild(label);\n",
              "      const progress = document.createElement('progress');\n",
              "      progress.max = size;\n",
              "      div.appendChild(progress);\n",
              "      document.body.appendChild(div);\n",
              "\n",
              "      const buffers = [];\n",
              "      let downloaded = 0;\n",
              "\n",
              "      const channel = await google.colab.kernel.comms.open(id);\n",
              "      // Send a message to notify the kernel that we're ready.\n",
              "      channel.send({})\n",
              "\n",
              "      for await (const message of channel.messages) {\n",
              "        // Send a message to notify the kernel that we're ready.\n",
              "        channel.send({})\n",
              "        if (message.buffers) {\n",
              "          for (const buffer of message.buffers) {\n",
              "            buffers.push(buffer);\n",
              "            downloaded += buffer.byteLength;\n",
              "            progress.value = downloaded;\n",
              "          }\n",
              "        }\n",
              "      }\n",
              "      const blob = new Blob(buffers, {type: 'application/binary'});\n",
              "      const a = document.createElement('a');\n",
              "      a.href = window.URL.createObjectURL(blob);\n",
              "      a.download = filename;\n",
              "      div.appendChild(a);\n",
              "      a.click();\n",
              "      div.remove();\n",
              "    }\n",
              "  "
            ],
            "text/plain": [
              "<IPython.core.display.Javascript object>"
            ]
          },
          "metadata": {}
        },
        {
          "output_type": "display_data",
          "data": {
            "application/javascript": [
              "download(\"download_8c0ee964-1904-4864-ac6a-90f381441640\", \"adjList.in\", 27550213)"
            ],
            "text/plain": [
              "<IPython.core.display.Javascript object>"
            ]
          },
          "metadata": {}
        }
      ]
    },
    {
      "cell_type": "code",
      "metadata": {
        "id": "wvOE3CgCnOlI"
      },
      "source": [
        ""
      ],
      "execution_count": null,
      "outputs": []
    }
  ]
}