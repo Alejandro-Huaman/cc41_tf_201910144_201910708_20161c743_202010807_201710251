{
 "cells": [
  {
   "cell_type": "markdown",
   "metadata": {
    "colab_type": "text",
    "id": "view-in-github"
   },
   "source": [
    "<a href=\"https://colab.research.google.com/github/Alejandro-Huaman/cc41_tf_201910144_201910708_20161c743_202010807_201710251/blob/main/Algoritmo%20Dijkstra/DijkstraAlmacenesPuntosCercanos.ipynb\" target=\"_parent\"><img src=\"https://colab.research.google.com/assets/colab-badge.svg\" alt=\"Open In Colab\"/></a>"
   ]
  },
  {
   "cell_type": "code",
   "execution_count": 5,
   "metadata": {
    "id": "uqet64C46FXB"
   },
   "outputs": [],
   "source": [
    "import urllib.request\n",
    "import math\n",
    "import heapq as hq"
   ]
  },
  {
   "cell_type": "markdown",
   "metadata": {
    "id": "tXgrNCIa1tuD"
   },
   "source": [
    "### Leer y Guardar\n",
    "- Puntos de Almacen\n",
    "- Puntos de Entrega\n",
    "- Lista de Adyacencia"
   ]
  },
  {
   "cell_type": "code",
   "execution_count": 6,
   "metadata": {
    "id": "3onfzS286Tr0"
   },
   "outputs": [],
   "source": [
    "def readAdjl(fn):\n",
    "  with urllib.request.urlopen(fn) as f:\n",
    "    L = []\n",
    "    for line in f:\n",
    "        L.append(list(map(int, line.strip().split())))\n",
    "  return L"
   ]
  },
  {
   "cell_type": "code",
   "execution_count": 7,
   "metadata": {
    "id": "O4wjDc2m1tuF"
   },
   "outputs": [],
   "source": [
    "def coordToIndex(coord, size):\n",
    "    return coord[0] * size + coord[1]"
   ]
  },
  {
   "cell_type": "code",
   "execution_count": 8,
   "metadata": {
    "id": "zgKOvw_M7MI9"
   },
   "outputs": [],
   "source": [
    "def readCoords(fn, size):\n",
    "  arr = []\n",
    "\n",
    "  with urllib.request.urlopen(fn) as f:\n",
    "    for line in f:\n",
    "      coord = list(map(int, (line.decode(\"utf-8\").strip().split(\";\"))))\n",
    "      arr.append(coordToIndex(coord, size))\n",
    "  \n",
    "  return arr"
   ]
  },
  {
   "cell_type": "code",
   "execution_count": 9,
   "metadata": {
    "id": "laGxBuKC6V-3"
   },
   "outputs": [],
   "source": [
    "urlAdjList = 'https://raw.githubusercontent.com/Alejandro-Huaman/cc41_tf_201910144_201910708_20161c743_202010807_201710251/main/Lista%20de%20Adyacencia/adjList.in'\n",
    "urlAlmacen = 'https://raw.githubusercontent.com/Alejandro-Huaman/cc41_tf_201910144_201910708_20161c743_202010807_201710251/main/almacenes.csv'\n",
    "urlEntrega = 'https://raw.githubusercontent.com/Alejandro-Huaman/cc41_tf_201910144_201910708_20161c743_202010807_201710251/main/puntos_entrega.csv'\n",
    "\n",
    "G = readAdjl(urlAdjList)\n",
    "P_Almacen = readCoords(urlAlmacen, 1000)\n",
    "P_Entrega = readCoords(urlEntrega, 1000)"
   ]
  },
  {
   "cell_type": "markdown",
   "metadata": {
    "id": "MK0Gjcga1tuH"
   },
   "source": [
    "### Puntos de entrega más cercanos por cada almacén"
   ]
  },
  {
   "cell_type": "code",
   "execution_count": 10,
   "metadata": {
    "id": "rDnz4aSu1tuH"
   },
   "outputs": [],
   "source": [
    "#Convert index to coordinates\n",
    "def indexToCoord(index, size):\n",
    "    x = index // size\n",
    "    y = index % size\n",
    "    return (x, y)"
   ]
  },
  {
   "cell_type": "code",
   "execution_count": 11,
   "metadata": {
    "id": "bcRp_t6x1tuI"
   },
   "outputs": [],
   "source": [
    "#Get distance between two points\n",
    "def getDistance(x1, y1, x2, y2):\n",
    "    return math.sqrt((x1 - x2)**2 + (y1 - y2)**2)"
   ]
  },
  {
   "cell_type": "code",
   "execution_count": 12,
   "metadata": {
    "id": "kj-2LfTP1tuJ"
   },
   "outputs": [],
   "source": [
    "def closest_p_a_to_p_e(p_e):\n",
    "  x_e, y_e = indexToCoord(p_e, 1000)\n",
    "  closest_p_a = P_Almacen[0]\n",
    "  for p_a in P_Almacen:\n",
    "    x_a, y_a = indexToCoord(p_a, 1000)\n",
    "    x_closest, y_closest = indexToCoord(closest_p_a, 1000)\n",
    "    if getDistance(x_a,y_a,x_e,y_e) < getDistance(x_closest,y_closest,x_e,y_e):\n",
    "      closest_p_a = p_a\n",
    "  return closest_p_a"
   ]
  },
  {
   "cell_type": "code",
   "execution_count": null,
   "metadata": {
    "id": "tUzME5vs1tuJ",
    "outputId": "cca45cb5-c310-4be6-926f-10a72a6a1e7f"
   },
   "outputs": [],
   "source": [
    "#Puntos de entrega más cercanos por cada almacén\n",
    "\n",
    "dict_p_almacen = {}\n",
    "\n",
    "for p_e in P_Entrega:\n",
    "    closest_p_a = closest_p_a_to_p_e(p_e)\n",
    "    if not closest_p_a in dict_p_almacen:\n",
    "        dict_p_almacen[closest_p_a] = [p_e]\n",
    "    else:\n",
    "        dict_p_almacen[closest_p_a].append(p_e)\n",
    "\n",
    "total_p_e_counter = 0\n",
    "for count, p_a in enumerate(P_Almacen):\n",
    "    if not p_a in dict_p_almacen:\n",
    "        dict_p_almacen[p_a] = []\n",
    "    print(f\"Almacen {count} ({p_a}): {dict_p_almacen[p_a]})\")\n",
    "    print(f\"Contiene: {len(dict_p_almacen[p_a])} puntos de entrega\")\n",
    "    total_p_e_counter += len(dict_p_almacen[p_a])\n",
    "\n",
    "print(f\"\\nEl total de puntos de entrega es: {total_p_e_counter}\")"
   ]
  },
  {
   "cell_type": "markdown",
   "metadata": {
    "id": "7ev7MbPL1tuK"
   },
   "source": [
    "### Dijkstra - **Old Version**\n",
    "Este es el algoritmo realizado para los antiguos hitos. Por favor, pasar a la siguiente sección para ejecutar la versión actual."
   ]
  },
  {
   "cell_type": "code",
   "execution_count": null,
   "metadata": {
    "id": "0GoxFJ_96UoJ"
   },
   "outputs": [],
   "source": [
    "def dijkstra(G, s):\n",
    "  n = len(G)\n",
    "  visited = [False]*n\n",
    "  path = [None]*n\n",
    "  cost = [math.inf]*n\n",
    "  cost[s] = 0\n",
    "  queue = [(s, 0)]\n",
    "  while queue:\n",
    "    u, g_u = hq.heappop(queue)\n",
    "    if not visited[u]:\n",
    "      visited[u] = True        \n",
    "      for v in G[u]:\n",
    "        f = g_u + 1\n",
    "        if f < cost[v]:\n",
    "          cost[v] = f\n",
    "          path[v] = u\n",
    "          hq.heappush(queue, (v, f))\n",
    "  return path"
   ]
  },
  {
   "cell_type": "code",
   "execution_count": null,
   "metadata": {
    "id": "399IpzU1Dlvy"
   },
   "outputs": [],
   "source": [
    "#Devuelve el camino (arreglo) hasta el primer punto\n",
    "def WayToPoint(p_e, init, indexEntrega, indexAlmacen):\n",
    "  tr = [p_e] #trayectoria\n",
    "  aux = path[p_e] - p_e\n",
    "\n",
    "  while (p_e != None):\n",
    "    parent = path[p_e]\n",
    "    if parent != None and parent - p_e != aux:\n",
    "      tr.append(p_e)\n",
    "      break\n",
    "    p_e = parent\n",
    "  \n",
    "  tr.append(init)\n",
    "  tr.reverse()\n",
    "  #Get total distance\n",
    "  distance = 0\n",
    "  for i in range(len(tr) - 1):\n",
    "    x1, y1 = indexToCoord(tr[i], 1000)\n",
    "    x2, y2 = indexToCoord(tr[i+1], 1000)\n",
    "    distance += getDistance(x1, y1, x2, y2)\n",
    "\n",
    "  #change current element minorDistance\n",
    "  if distance < minorDistance[indexEntrega][1]:\n",
    "    targetAlmacen = minorDistance[indexEntrega][0]\n",
    "    if targetAlmacen != -1:\n",
    "      listArrCaminos[targetAlmacen][indexEntrega] = []\n",
    "    minorDistance[indexEntrega] = (indexAlmacen, distance)\n",
    "    return tr\n",
    "  return []\n"
   ]
  },
  {
   "cell_type": "code",
   "execution_count": null,
   "metadata": {
    "id": "FvWhnx1K6XzL"
   },
   "outputs": [],
   "source": [
    "#Crear arreglo de distancias hacia los almacenes\n",
    "minorDistance = [[-1,float('inf')]]*len(P_Entrega)\n",
    "listArrCaminos = []\n",
    "\n",
    "for index in range(len(P_Almacen)):\n",
    "  p_a = P_Almacen[index]\n",
    "  path = dijkstra(G, p_a)\n",
    "  arrCaminos = []\n",
    "  for count, p_e in enumerate(P_Entrega):\n",
    "   arr = WayToPoint(p_e, p_a, count, index)\n",
    "   arrCaminos.append(arr)\n",
    "  listArrCaminos.append(arrCaminos)\n",
    "\n",
    "fixedListArrCaminos = []\n",
    "for index, arr in enumerate(listArrCaminos):\n",
    "  #delete empty arrays in arr\n",
    "  fixedArr = []\n",
    "  for path in arr:\n",
    "    if path != None and len(path) > 0:\n",
    "      fixedArr.append(path)\n",
    "  fixedListArrCaminos.append(fixedArr)\n",
    "\n",
    "#Print fixedListArrCaminos\n",
    "total = 0\n",
    "for index, arr in enumerate(fixedListArrCaminos):\n",
    "  total += len(arr)\n",
    "  print(f\"Almacen {index} ({P_Almacen[index]}) : {arr}\")\n",
    "\n",
    "print(\"La cantidad de puntos de entrega es: \" + str(total))"
   ]
  },
  {
   "cell_type": "markdown",
   "metadata": {
    "id": "8EB4GJ9B1tuM"
   },
   "source": [
    "### Dijkstra Grupal - **New Version**\n",
    "En este Dijkestra empleamos los diccionarios, lo que nos facilitó considerablemente el utilizar los algoritmos por secciones."
   ]
  },
  {
   "cell_type": "code",
   "execution_count": 14,
   "metadata": {
    "id": "oU1k9mgv1tuN"
   },
   "outputs": [],
   "source": [
    "def dijkstraDict(G, s):\n",
    "  visited = {}\n",
    "  path = {}\n",
    "  cost = {}\n",
    "  for key in G.keys():\n",
    "    visited[key] = False\n",
    "    path[key] = None\n",
    "    cost[key] = math.inf\n",
    "\n",
    "  cost[s] = 0\n",
    "  queue = [(s, 0)]\n",
    "  while queue:\n",
    "    u, g_u = hq.heappop(queue)\n",
    "    if not visited[u]:\n",
    "      visited[u] = True        \n",
    "      for v in G[u]:\n",
    "        f = g_u + 1\n",
    "        if f < cost[v]:\n",
    "          cost[v] = f\n",
    "          path[v] = u\n",
    "          hq.heappush(queue, (v, f))\n",
    "  return path"
   ]
  },
  {
   "cell_type": "code",
   "execution_count": 15,
   "metadata": {
    "id": "odNukmOS1tuN"
   },
   "outputs": [],
   "source": [
    "def create_adjacency_list(p_e_list, init):\n",
    "    adjacency_list = {}\n",
    "    max_x, max_y = indexToCoord(init,1000)\n",
    "    min_x, min_y = indexToCoord(init,1000)\n",
    "    for p_e in p_e_list:\n",
    "        e_x, e_y = indexToCoord(p_e, 1000)\n",
    "        if e_x > max_x:\n",
    "            max_x = e_x\n",
    "        elif e_x < min_x:\n",
    "            min_x = e_x\n",
    "        if e_y > max_y:\n",
    "            max_y = e_y\n",
    "        elif e_y < min_y:\n",
    "            min_y = e_y\n",
    "    \n",
    "\n",
    "    for x in range(min_x, max_x + 1):\n",
    "        for y in range(min_y, max_y + 1):\n",
    "            adjacency_list[coordToIndex((x,y),1000)] = []\n",
    "\n",
    "    for point in adjacency_list:\n",
    "        x, y = indexToCoord(point, 1000)\n",
    "        left_point = coordToIndex((x - 1, y), 1000)\n",
    "        right_point = coordToIndex((x + 1, y), 1000)\n",
    "        up_point = coordToIndex((x, y + 1), 1000)\n",
    "        down_point = coordToIndex((x, y - 1), 1000)\n",
    "\n",
    "        if left_point in adjacency_list:\n",
    "            adjacency_list[point].append(left_point)\n",
    "        if right_point in adjacency_list:\n",
    "            adjacency_list[point].append(right_point)\n",
    "        if up_point in adjacency_list:\n",
    "            adjacency_list[point].append(up_point)\n",
    "        if down_point in adjacency_list:\n",
    "            adjacency_list[point].append(down_point)\n",
    "\n",
    "    return adjacency_list\n",
    "      \n"
   ]
  },
  {
   "cell_type": "code",
   "execution_count": 16,
   "metadata": {
    "id": "NDMcP_oy1tuO"
   },
   "outputs": [],
   "source": [
    "#Devuelve el camino (arreglo) hasta el primer punto\n",
    "def WayToPoint(path, p_e, init):\n",
    "  #print(p_e)\n",
    "  tr = [] #trayectoria\n",
    "  aux = path[p_e] - p_e\n",
    "\n",
    "  change_x = 0\n",
    "  change_y = 0\n",
    "\n",
    "  while p_e != None:\n",
    "    if path[p_e] == -1: break\n",
    "    \n",
    "    parent = path[p_e]\n",
    "    if parent != None:\n",
    "      e_x, e_y = indexToCoord(p_e, 1000)\n",
    "      p_x, p_y = indexToCoord(parent, 1000)\n",
    "      aux_change_x = change_x\n",
    "      aux_change_y = change_y\n",
    "      if e_x != p_x:\n",
    "        change_x = 1\n",
    "        if change_x != aux_change_x:\n",
    "          change_y = 0\n",
    "          tr.append(p_e)\n",
    "      if e_y != p_y:\n",
    "        change_y = 1\n",
    "        if change_y != aux_change_y:\n",
    "          change_x = 0\n",
    "          tr.append(p_e)\n",
    "    p_e = parent\n",
    "  \n",
    "  tr.append(init)\n",
    "  tr.reverse()\n",
    "\n",
    "  return tr\n"
   ]
  },
  {
   "cell_type": "code",
   "execution_count": null,
   "metadata": {
    "id": "xJbSHz4C1tuO",
    "outputId": "a38e846c-04b2-4d15-83b7-72eb549a1039"
   },
   "outputs": [],
   "source": [
    "for index, p_a in enumerate(P_Almacen):\n",
    "    adjList = create_adjacency_list(dict_p_almacen[p_a], p_a)\n",
    "    path = dijkstraDict(adjList, p_a)\n",
    "    arrCaminos = []\n",
    "    for p_e in dict_p_almacen[p_a]:\n",
    "         arrCaminos.append(WayToPoint(path, p_e, p_a))\n",
    "    print(f\"Almacen {index} ({p_a}) : {arrCaminos}\")\n"
   ]
  },
  {
   "cell_type": "markdown",
   "metadata": {
    "id": "9HC9iU3c1tuO"
   },
   "source": [
    "### Algoritmos de integrantes\n",
    "En esta sección se encuentran los algoritmo por integrantes."
   ]
  },
  {
   "cell_type": "code",
   "execution_count": 36,
   "metadata": {
    "id": "b6Nol0al1tuP"
   },
   "outputs": [],
   "source": [
    "#INTEGRANTE 0 - Galindo Alvarez, Franco - u202010807\n",
    "def bellmanFordDict(G, p_a):\n",
    "  n = len(G)\n",
    "  cost = {}\n",
    "  path = {}\n",
    "\n",
    "  for key in G.keys():\n",
    "    path[key] = None\n",
    "    cost[key] = math.inf\n",
    "\n",
    "  cost[p_a] = 0\n",
    "\n",
    "  for _ in range(n-1):\n",
    "    for u in G.keys():\n",
    "      for v in G[u]:\n",
    "        if cost[u] + 1 < cost[v]:\n",
    "          cost[v] = cost[u] + 1\n",
    "          path[v] = u\n",
    "\n",
    "  # check negative cycle\n",
    "  for u in G.keys():\n",
    "    for v in G[u]:\n",
    "      if cost[u] + 1 < cost[v]:\n",
    "        return None # negative cycle exists\n",
    "        \n",
    "  return path\n"
   ]
  },
  {
   "cell_type": "code",
   "execution_count": 18,
   "metadata": {
    "id": "IsMuimG91tuP"
   },
   "outputs": [],
   "source": [
    "#INTEGRANTE 1 - Huamán Ruiz, Alejandro Sebastián - u201910144\n",
    "def primDict(G,p_a):\n",
    "  visited = {}\n",
    "  path = {}\n",
    "  cost = {}\n",
    "  for key in G.keys():\n",
    "    visited[key] = False\n",
    "    path[key] = None\n",
    "    cost[key] = math.inf\n",
    "  cost[p_a] = 0\n",
    "  q = [(0, p_a)]\n",
    "  while q:\n",
    "    _, u = hq.heappop(q)\n",
    "    if not visited[u]:\n",
    "      visited[u] = True\n",
    "      for v in G[u]:\n",
    "        if not visited[v] and 1 < cost[v]:\n",
    "          cost[v] = 1\n",
    "          path[v] = u\n",
    "          hq.heappush(q, (1, v))\n",
    "\n",
    "  return path"
   ]
  },
  {
   "cell_type": "code",
   "execution_count": 19,
   "metadata": {
    "id": "ZdQvAIrO1tuP"
   },
   "outputs": [],
   "source": [
    "#INTEGRANTE 2 - Rebaza Maticorena, Giusen Eduardo - U201910708\n",
    "class DisjointSet:\n",
    "  S = {}\n",
    "  # todos los métodos tiene el parametro oculto self\n",
    "  # self === this\n",
    "  # Constructor!\n",
    "  def __init__(self,G):\n",
    "    for key in G.keys(): \n",
    "      self.S[key] = -1\n",
    "\n",
    "  ## Acuerdo de personas honorables: __algo: privado, _algo: protegido, algo: publico.\n",
    "  def find(self, x):\n",
    "    if self.S[x] < 0:\n",
    "      return x\n",
    "    p = self.find(self.S[x])\n",
    "    self.S[x] = p\n",
    "    return p\n",
    "\n",
    "  def union(self, x, y):\n",
    "    Xr = self.find(x)\n",
    "    Yr = self.find(y)\n",
    "    if Xr != Yr:\n",
    "      if self.S[Xr] < self.S[Yr]:\n",
    "        self.S[Xr] += self.S[Yr]\n",
    "        self.S[Yr] = Xr\n",
    "      else:\n",
    "        self.S[Yr] += self.S[Xr]\n",
    "        self.S[Xr] = Yr\n",
    "\n",
    "  def isSameSet(self, x, y):\n",
    "    return self.find(x) == self.find(y)\n",
    "  \n",
    "def kruskal(G):\n",
    "  n = len(G)\n",
    "  edges = []\n",
    "  for u in G:\n",
    "    for v in G[u]:\n",
    "      hq.heappush(edges, (1, u, v))\n",
    "\n",
    "  uf = DisjointSet(G)\n",
    "\n",
    "  T = []\n",
    "  path = {}\n",
    "  for key in G.keys():\n",
    "    path[key] = -1\n",
    "    \n",
    "  while edges and n > 0:\n",
    "    _, u, v = hq.heappop(edges)\n",
    "    if not uf.isSameSet(u, v):\n",
    "      uf.union(u, v)\n",
    "      T.append((u, v, 1))\n",
    "      if path[u] < 0:\n",
    "        path[u] = v\n",
    "      else:\n",
    "        path[v] = u\n",
    "      n -= 1\n",
    "\n",
    "  return path"
   ]
  },
  {
   "cell_type": "code",
   "execution_count": 20,
   "metadata": {
    "id": "L7qgusMp1tuP"
   },
   "outputs": [],
   "source": [
    "#INTEGRANTE 3 - Valdivia Zurita, Ernesto Miguel - u201710251\n",
    "def dfsDict(G, p_a, limit):\n",
    "  visited = {}\n",
    "  path = {}\n",
    "  reached = {}\n",
    "  for key in G.keys():\n",
    "    visited[key] = False\n",
    "    path[key] = None\n",
    "    reached[key] = False\n",
    "\n",
    "  def _dfs(u, limit):\n",
    "    if limit > 0:\n",
    "        if not visited[u]:\n",
    "            visited[u] = True\n",
    "            for v in G[u]:\n",
    "              if not visited[v]:\n",
    "                path[v] = u\n",
    "                reached[v] = True\n",
    "                _dfs(v, limit-1)\n",
    "                \n",
    "  reached[p_a]= True              \n",
    "  _dfs(p_a, limit)\n",
    "     \n",
    "  return path"
   ]
  },
  {
   "cell_type": "code",
   "execution_count": 21,
   "metadata": {
    "id": "ByAlurfT1tuQ"
   },
   "outputs": [],
   "source": [
    "#INTEGRANTE 4 - Peralta Saravia, Jose Eduardo - U20161C743\n",
    "\n",
    "def bfs(G, s):                #(grafo, vertice de origen s)\n",
    "  visitado = {}\n",
    "  path = {}\n",
    "  for key in G.keys():\n",
    "    visitado[key] = False\n",
    "    path[key] = None\n",
    "\n",
    "  queue = [s]\n",
    "  visitado[s] = True\n",
    "\n",
    "  while queue:                #mientras cola sea mayor a 0\n",
    "    u = queue.pop(0)                #popleft() -> elimina 1er elemento de la lista       \n",
    "    for v in G[u]:            #v es el vecino de u\n",
    "      if not visitado[v]:\n",
    "        visitado [v] = True\n",
    "        path[v] = u           #padre de v sera u\n",
    "        queue.append(v)\n",
    "  return path"
   ]
  },
  {
   "cell_type": "markdown",
   "metadata": {
    "id": "f3r3Q4n_1tuQ"
   },
   "source": [
    "### Regiones por integrante"
   ]
  },
  {
   "cell_type": "code",
   "execution_count": 22,
   "metadata": {
    "id": "RSwjc4zT1tuQ"
   },
   "outputs": [],
   "source": [
    "def getInicioFin(integrante):\n",
    "    cantAlmPorIntegrante = len(P_Almacen)/5\n",
    "    inicio = cantAlmPorIntegrante*integrante\n",
    "    fin = inicio + cantAlmPorIntegrante\n",
    "    return inicio, fin"
   ]
  },
  {
   "cell_type": "code",
   "execution_count": null,
   "metadata": {
    "id": "lWWWwPOv1tuQ"
   },
   "outputs": [],
   "source": [
    "#INTEGRANTE 0 - Galindo Alvarez, Franco - u202010807\n",
    "inicio, fin = getInicioFin(0)\n",
    "\n",
    "for index, p_a in enumerate(P_Almacen):\n",
    "    if index <= inicio or index > fin: continue\n",
    "    adjList = create_adjacency_list(dict_p_almacen[p_a], p_a)\n",
    "    path = bellmanFordDict(adjList, p_a) #REEMPLAZAR POR TU ALGORITMO\n",
    "    arrCaminos = []\n",
    "    for p_e in dict_p_almacen[p_a]:\n",
    "         arrCaminos.append(WayToPoint(path, p_e, p_a))\n",
    "    print(f\"Almacen {index} ({p_a}) : {arrCaminos}\")\n",
    "    break"
   ]
  },
  {
   "cell_type": "code",
   "execution_count": null,
   "metadata": {
    "id": "abjO0Vx91tuQ"
   },
   "outputs": [],
   "source": [
    "#INTEGRANTE 1 - Huamán Ruiz, Alejandro Sebastián - u201910144 \n",
    "inicio, fin = getInicioFin(1)\n",
    "\n",
    "for index, p_a in enumerate(P_Almacen):\n",
    "    if index <= inicio or index > fin: continue\n",
    "    adjList = create_adjacency_list(dict_p_almacen[p_a], p_a)\n",
    "    path = primDict(adjList, p_a)\n",
    "    arrCaminos = []\n",
    "    for p_e in dict_p_almacen[p_a]:\n",
    "         arrCaminos.append(WayToPoint(path, p_e, p_a))\n",
    "    print(f\"Almacen {index} ({p_a}) : {arrCaminos}\")"
   ]
  },
  {
   "cell_type": "code",
   "execution_count": null,
   "metadata": {
    "id": "aQS-5TxO1tuQ"
   },
   "outputs": [],
   "source": [
    "#INTEGRANTE 2 - Rebaza Maticorena, Giusen Eduardo - U201910708\n",
    "inicio, fin = getInicioFin(2)\n",
    "\n",
    "for index, p_a in enumerate(P_Almacen):\n",
    "    if index <= inicio or index > fin: continue\n",
    "    adjList = create_adjacency_list(dict_p_almacen[p_a], p_a)\n",
    "    path = kruskal(adjList) \n",
    "    arrCaminos = []\n",
    "    for p_e in dict_p_almacen[p_a]:\n",
    "        arrCaminos.append(WayToPoint(path, p_e, p_a))\n",
    "    print(f\"Almacen {index} ({p_a}) : {arrCaminos}\")\n",
    "    "
   ]
  },
  {
   "cell_type": "code",
   "execution_count": null,
   "metadata": {
    "id": "PN0vaTYx1tuR"
   },
   "outputs": [],
   "source": [
    "#INTEGRANTE 3 - Valdivia Zurita, Ernesto Miguel - u201710251\n",
    "inicio, fin = getInicioFin(3)\n",
    "\n",
    "for index, p_a in enumerate(P_Almacen):\n",
    "    if index <= inicio or index > fin: continue\n",
    "    adjList = create_adjacency_list(dict_p_almacen[p_a], p_a)\n",
    "    path = dfsDict(adjList, p_a, 1500) #REEMPLAZAR POR TU ALGORITMO\n",
    "    arrCaminos = []\n",
    "    for p_e in dict_p_almacen[p_a]:\n",
    "         arrCaminos.append(WayToPoint(path, p_e, p_a))\n",
    "    print(f\"Almacen {index} ({p_a}) : {arrCaminos}\")"
   ]
  },
  {
   "cell_type": "code",
   "execution_count": null,
   "metadata": {
    "id": "Ha94VM481tuR"
   },
   "outputs": [],
   "source": [
    "#INTEGRANTE 4 - Peralta Saravia, Jose Eduardo - U20161C743\n",
    "inicio, fin = getInicioFin(4)\n",
    "\n",
    "for index, p_a in enumerate(P_Almacen):\n",
    "    if index <= inicio or index > fin: continue\n",
    "    adjList = create_adjacency_list(dict_p_almacen[p_a], p_a)\n",
    "    path = bfs(adjList, p_a) #REEMPLAZAR POR TU ALGORITMO\n",
    "    arrCaminos = []\n",
    "    for p_e in dict_p_almacen[p_a]:\n",
    "      arrCaminos.append(WayToPoint(path, p_e, p_a))\n",
    "    print(f\"Almacen {index} ({p_a}) : {arrCaminos}\")"
   ]
  },
  {
   "cell_type": "code",
   "execution_count": null,
   "metadata": {
    "id": "QZ91xbnn1tuR"
   },
   "outputs": [],
   "source": []
  }
 ],
 "metadata": {
  "colab": {
   "collapsed_sections": [],
   "include_colab_link": true,
   "name": "DijkstraAlmacenesPuntosCercanos.ipynb",
   "provenance": []
  },
  "interpreter": {
   "hash": "25bf1dab56f13e21d80318cd5e789e076f92a14fa9924f370a2a818164c863f4"
  },
  "kernelspec": {
   "display_name": "Python 3",
   "language": "python",
   "name": "python3"
  },
  "language_info": {
   "codemirror_mode": {
    "name": "ipython",
    "version": 3
   },
   "file_extension": ".py",
   "mimetype": "text/x-python",
   "name": "python",
   "nbconvert_exporter": "python",
   "pygments_lexer": "ipython3",
   "version": "3.9.5"
  }
 },
 "nbformat": 4,
 "nbformat_minor": 4
}
