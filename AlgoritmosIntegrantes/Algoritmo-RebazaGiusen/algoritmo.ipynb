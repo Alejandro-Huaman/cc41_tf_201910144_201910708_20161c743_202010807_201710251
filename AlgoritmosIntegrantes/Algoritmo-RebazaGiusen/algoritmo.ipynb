{
 "cells": [
  {
   "cell_type": "code",
   "execution_count": 1,
   "metadata": {},
   "outputs": [],
   "source": [
    "import urllib.request\n",
    "import math\n",
    "import heapq as hq"
   ]
  },
  {
   "cell_type": "code",
   "execution_count": 2,
   "metadata": {},
   "outputs": [],
   "source": [
    "def coordToIndex(coord, size):\n",
    "    return coord[0] * size + coord[1]"
   ]
  },
  {
   "cell_type": "code",
   "execution_count": 3,
   "metadata": {},
   "outputs": [],
   "source": [
    "def readCoords(fn, size):\n",
    "  arr = []\n",
    "  with urllib.request.urlopen(fn) as f:\n",
    "    for line in f:\n",
    "      coord = list(map(int, (line.decode(\"utf-8\").strip().split(\";\"))))\n",
    "      arr.append(coordToIndex(coord,size))\n",
    "  return arr"
   ]
  },
  {
   "cell_type": "code",
   "execution_count": 4,
   "metadata": {},
   "outputs": [],
   "source": [
    "urlAlmacen = 'https://raw.githubusercontent.com/Alejandro-Huaman/cc41_tf_201910144_201910708_20161c743_202010807_201710251/main/almacenes.csv'\n",
    "urlEntrega = 'https://raw.githubusercontent.com/Alejandro-Huaman/cc41_tf_201910144_201910708_20161c743_202010807_201710251/main/puntos_entrega.csv'\n",
    "\n",
    "P_Almacen = readCoords(urlAlmacen, 1000)\n",
    "P_Entrega = readCoords(urlEntrega, 1000)"
   ]
  },
  {
   "cell_type": "code",
   "execution_count": 5,
   "metadata": {},
   "outputs": [
    {
     "name": "stdout",
     "output_type": "stream",
     "text": [
      "[326279, 239056, 756395, 150760, 583593, 521579, 57412, 329743, 111936, 823309, 585347, 518197, 879875, 265137, 61066, 654825, 61274, 163653, 376540, 863697, 302738, 138116, 129745, 807873, 310954, 310913, 650842, 943115, 522533, 409135, 532672, 474900, 487344, 374030, 54346, 798345, 349961, 457577, 910938, 673208, 617208, 425153, 647074, 453221, 847982, 265689, 176617, 656289, 819216, 386348, 616470, 412017, 818900, 125681, 611255, 210920, 9638, 144897, 565709, 164344, 114475, 538829, 566177, 352872, 394246, 638596, 818593, 481254, 727413, 512571, 365184, 433204, 383212, 569849, 321647]\n"
     ]
    }
   ],
   "source": [
    "print(P_Almacen)"
   ]
  },
  {
   "cell_type": "code",
   "execution_count": 8,
   "metadata": {},
   "outputs": [],
   "source": [
    "def indexToCoord(index, size):\n",
    "    x = index // size\n",
    "    y = index % size\n",
    "    return (x, y)"
   ]
  },
  {
   "cell_type": "code",
   "execution_count": 42,
   "metadata": {},
   "outputs": [
    {
     "name": "stdout",
     "output_type": "stream",
     "text": [
      "[208288, 213293, 218335, 219333, 228288, 229293, 232278, 232337, 236313, 237306, 240320, 241340, 249301, 250284, 252317, 253300, 253324, 253341, 257312, 259292, 261311, 272319, 274320, 278290, 278328, 281340, 282342, 289340, 293307, 296318, 308287, 316287, 318297, 327307, 328327, 332277, 337300, 343322, 344301, 345328, 352283, 374289]\n"
     ]
    }
   ],
   "source": [
    "arreglo= [[326279, 208279, 208288], [326279, 229279, 229293], [326279, 274279, 274320], [326279, 318279, 318297], [326279, 237279, 237306], [326279, 253279, 253300], [326279, 326307, 327307], [326279, 278279, 278290], [326279, 241279, 241340], [326279, 253279, 253341], [326279, 259279, 259292], [326279, 257279, 257312], [326279, 261279, 261311], [326279, 326328, 345328], [326279, 296279, 296318], [326279, 232279, 232337], [326279, 232279, 232278], [326279, 218279, 218335], [326279, 326283, 352283], [326279, 213279, 213293], [326279, 240279, 240320], [326279, 236279, 236313], [326279, 308279, 308287], [326279, 272279, 272319], [326279, 282279, 282342], [326279, 326301, 344301], [326279, 326300, 337300], [326279, 219279, 219333], [326279, 250279, 250284], [326279, 252279, 252317], [326279, 326322, 343322], [326279, 253279, 253324], [326279, 249279, 249301], [326279, 289279, 289340], [326279, 293279, 293307], [326279, 281279, 281340], [326279, 326327, 328327], [326279, 326289, 374289], [326279, 228279, 228288], [326279, 316279, 316287], [326279, 278279, 278328], [326279, 332278, 332277]]\n",
    "almacenes=[]\n",
    "for x,y,z in arreglo:\n",
    "    almacenes.append(z)\n",
    "almacenes.sort()\n",
    "print(almacenes)\n",
    "\n"
   ]
  },
  {
   "cell_type": "code",
   "execution_count": null,
   "metadata": {},
   "outputs": [],
   "source": [
    "def floydWarshall(G):\n",
    "  n = len(G)\n",
    "\n",
    "  # initialize\n",
    "  cost = [[float('inf')]*n for _ in range(n)]\n",
    "  path = [[-1]*n for _ in range(n)]\n",
    "  \n",
    "\n",
    "  for u in range(n):\n",
    "    cost[u][u] = 0\n",
    "    print(G[u])\n",
    "    for v, w in G[u]:\n",
    "      cost[u][v] = w\n",
    "      path[u][v] = u\n",
    "  print(cost)\n",
    "  print(path)\n",
    "  # relax\n",
    "  for k in range(n):\n",
    "    for i in range(n):\n",
    "      if i == k: continue\n",
    "      for j in range(n):\n",
    "        if j == k or j == i: continue\n",
    "        f = cost[i][k] + cost[k][j]\n",
    "        if f < cost[i][j]:\n",
    "          cost[i][j] = f\n",
    "          path[i][j] = path[k][j]\n",
    "\n",
    "  return path, cost\n",
    "    "
   ]
  },
  {
   "cell_type": "code",
   "execution_count": 44,
   "metadata": {},
   "outputs": [],
   "source": [
    "def algoritmo(p_a,p_e,G):\n",
    "   path,cost=floydWarshall(G)\n",
    "    \n",
    "        \n",
    "    "
   ]
  },
  {
   "cell_type": "code",
   "execution_count": null,
   "metadata": {},
   "outputs": [],
   "source": []
  }
 ],
 "metadata": {
  "interpreter": {
   "hash": "0a7bb420f1f37db67744ff1595e49c2f588ba3be4c35e4cf094cee55d1a69d1e"
  },
  "kernelspec": {
   "display_name": "Python 3.9.7 64-bit",
   "language": "python",
   "name": "python3"
  },
  "language_info": {
   "codemirror_mode": {
    "name": "ipython",
    "version": 3
   },
   "file_extension": ".py",
   "mimetype": "text/x-python",
   "name": "python",
   "nbconvert_exporter": "python",
   "pygments_lexer": "ipython3",
   "version": "3.9.7"
  },
  "orig_nbformat": 4
 },
 "nbformat": 4,
 "nbformat_minor": 2
}
