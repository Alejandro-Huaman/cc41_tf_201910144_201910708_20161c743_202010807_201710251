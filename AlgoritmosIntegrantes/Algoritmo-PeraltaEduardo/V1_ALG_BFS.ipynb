{
  "nbformat": 4,
  "nbformat_minor": 0,
  "metadata": {
    "colab": {
      "name": "V1. ALG_BFS.ipynb",
      "provenance": [],
      "authorship_tag": "ABX9TyN0KRlg+7vbWpuz6Yi4CjnD",
      "include_colab_link": true
    },
    "kernelspec": {
      "name": "python3",
      "display_name": "Python 3"
    },
    "language_info": {
      "name": "python"
    }
  },
  "cells": [
    {
      "cell_type": "markdown",
      "metadata": {
        "id": "view-in-github",
        "colab_type": "text"
      },
      "source": [
        "<a href=\"https://colab.research.google.com/github/Alejandro-Huaman/cc41_tf_201910144_201910708_20161c743_202010807_201710251/blob/main/AlgoritmosIntegrantes/Algoritmo-PeraltaEduardo/V1_ALG_BFS.ipynb\" target=\"_parent\"><img src=\"https://colab.research.google.com/assets/colab-badge.svg\" alt=\"Open In Colab\"/></a>"
      ]
    },
    {
      "cell_type": "code",
      "metadata": {
        "id": "cjD-ES0LTd_D"
      },
      "source": [
        "import urllib.request\n",
        "import math\n",
        "import heapq as hq"
      ],
      "execution_count": 1,
      "outputs": []
    },
    {
      "cell_type": "markdown",
      "metadata": {
        "id": "H3hiWvH-mxfN"
      },
      "source": [
        "##Lectura de los puntos y creacion del Grafo"
      ]
    },
    {
      "cell_type": "code",
      "metadata": {
        "id": "7u0N0WAUTi74"
      },
      "source": [
        "#coord to index\n",
        "def coordToIndex(coord, size):\n",
        "    return coord[0] * size + coord[1]"
      ],
      "execution_count": 2,
      "outputs": []
    },
    {
      "cell_type": "code",
      "metadata": {
        "id": "OPEiDPhOTZwA"
      },
      "source": [
        "def readCoords(fn, size):\n",
        "  arr = []\n",
        "  with urllib.request.urlopen(fn) as f:\n",
        "    for line in f:\n",
        "      coord = list(map(int, (line.decode(\"utf-8\").strip().split(\";\"))))\n",
        "      arr.append(coordToIndex(coord,size))\n",
        "  return arr"
      ],
      "execution_count": 3,
      "outputs": []
    },
    {
      "cell_type": "code",
      "metadata": {
        "id": "tQLOf51Om7Ec"
      },
      "source": [
        "def readAdjl(fn):\n",
        "  with urllib.request.urlopen(fn) as f:\n",
        "    L = []\n",
        "    for line in f:\n",
        "        L.append(list(map(int, line.strip().split())))\n",
        "  return L"
      ],
      "execution_count": 4,
      "outputs": []
    },
    {
      "cell_type": "code",
      "metadata": {
        "id": "JuSv67gHTYYp"
      },
      "source": [
        "urlAlmacen = 'https://raw.githubusercontent.com/Alejandro-Huaman/cc41_tf_201910144_201910708_20161c743_202010807_201710251/main/almacenes.csv'\n",
        "urlEntrega = 'https://raw.githubusercontent.com/Alejandro-Huaman/cc41_tf_201910144_201910708_20161c743_202010807_201710251/main/puntos_entrega.csv'\n",
        "urlAdjList = 'https://raw.githubusercontent.com/Alejandro-Huaman/cc41_tf_201910144_201910708_20161c743_202010807_201710251/main/Lista%20de%20Adyacencia/adjList.in'\n",
        "\n",
        "G = readAdjl(urlAdjList)\n",
        "P_Almacen = readCoords(urlAlmacen, 1000)\n",
        "P_Entrega = readCoords(urlEntrega, 1000)"
      ],
      "execution_count": 5,
      "outputs": []
    },
    {
      "cell_type": "markdown",
      "metadata": {
        "id": "zakYaA1mnJEk"
      },
      "source": [
        "##Algoritmo BFS"
      ]
    },
    {
      "cell_type": "code",
      "metadata": {
        "id": "ADiLx_giQzsz"
      },
      "source": [
        "def bfs(G, s):                #(grafo, vertice de origen s)\n",
        "  n = len(G)\n",
        "  visitado = [False]*n\n",
        "  path = [None]*n\n",
        "  queue = [s]\n",
        "  visitado[s] = True\n",
        "\n",
        "  while queue:                #mientras cola sea mayor a 0\n",
        "    u = queue.pop(0)                #popleft() -> elimina 1er elemento de la lista       \n",
        "    for v in G[u]:            #v es el vecino de u\n",
        "      if not visitado[v]:\n",
        "        visitado [v] = True\n",
        "        path[v] = u           #padre de v sera u\n",
        "        queue.append(v)\n",
        "  return path    "
      ],
      "execution_count": 12,
      "outputs": []
    }
  ]
}