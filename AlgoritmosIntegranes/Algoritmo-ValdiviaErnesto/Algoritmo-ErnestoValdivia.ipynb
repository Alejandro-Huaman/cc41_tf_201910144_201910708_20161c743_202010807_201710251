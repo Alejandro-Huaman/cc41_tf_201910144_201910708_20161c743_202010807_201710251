{
 "cells": [
  {
   "cell_type": "code",
   "execution_count": null,
   "metadata": {},
   "outputs": [],
   "source": [
    "import urllib.request\n",
    "import math\n",
    "import heapq as hq"
   ]
  },
  {
   "cell_type": "code",
   "execution_count": null,
   "metadata": {},
   "outputs": [],
   "source": [
    "\n",
    "def coordToIndex(coord, size):\n",
    "    return coord[0] * size + coord[1]"
   ]
  },
  {
   "cell_type": "code",
   "execution_count": null,
   "metadata": {},
   "outputs": [],
   "source": [
    "\n",
    "def readCoords(fn, size):\n",
    "  arr = []\n",
    "  with urllib.request.urlopen(fn) as f:\n",
    "    for line in f:\n",
    "      coord = list(map(int, (line.decode(\"utf-8\").strip().split(\";\"))))\n",
    "      arr.append(coordToIndex(coord,size))\n",
    "  return arr"
   ]
  },
  {
   "cell_type": "code",
   "execution_count": null,
   "metadata": {},
   "outputs": [],
   "source": [
    "urlAlmacen = 'https://raw.githubusercontent.com/Alejandro-Huaman/cc41_tf_201910144_201910708_20161c743_202010807_201710251/main/almacenes.csv'\n",
    "urlEntrega = 'https://raw.githubusercontent.com/Alejandro-Huaman/cc41_tf_201910144_201910708_20161c743_202010807_201710251/main/puntos_entrega.csv'\n",
    "\n",
    "P_Almacen = readCoords(urlAlmacen, 1000)\n",
    "P_Entrega = readCoords(urlEntrega, 1000)"
   ]
  },
  {
   "cell_type": "code",
   "execution_count": null,
   "metadata": {},
   "outputs": [],
   "source": [
    "# Busqueda de almacenes mas cercanos, con limite de 4ta parte del mapa"
   ]
  },
  {
   "cell_type": "code",
   "execution_count": null,
   "metadata": {},
   "outputs": [],
   "source": [
    "def dfs(G, s,limit ):\n",
    "  \n",
    "  n = len(G)\n",
    "  visited = [False]*n\n",
    "  parent = [None]*n\n",
    "  reached = [False]*n\n",
    "    \n",
    "  def _dfs(G, u, limit):\n",
    "    if limit > 0:\n",
    "        if not visited[u]:\n",
    "            visited[u] = True\n",
    "            for v in G[u]:\n",
    "              if not visited[v]:\n",
    "                parent[v] = u\n",
    "                reached[v] = True\n",
    "                _dfs(G, v, limit-1)\n",
    "\n",
    "                \n",
    "  reached[s]= True              \n",
    "  _dfs(G,s, limit)\n",
    "     \n",
    "\n",
    "  return parent"
   ]
  }
 ],
 "metadata": {
  "kernelspec": {
   "display_name": "Python 3",
   "language": "python",
   "name": "python3"
  },
  "language_info": {
   "codemirror_mode": {
    "name": "ipython",
    "version": 3
   },
   "file_extension": ".py",
   "mimetype": "text/x-python",
   "name": "python",
   "nbconvert_exporter": "python",
   "pygments_lexer": "ipython3",
   "version": "3.7.6"
  }
 },
 "nbformat": 4,
 "nbformat_minor": 4
}
