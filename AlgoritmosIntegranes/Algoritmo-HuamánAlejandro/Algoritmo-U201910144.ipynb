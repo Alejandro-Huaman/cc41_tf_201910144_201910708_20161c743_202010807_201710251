{
 "cells": [
  {
   "cell_type": "code",
   "execution_count": 17,
   "metadata": {},
   "outputs": [],
   "source": [
    "import urllib.request\n",
    "import math\n",
    "import heapq as hq"
   ]
  },
  {
   "cell_type": "markdown",
   "metadata": {},
   "source": [
    "# Lectura de los Puntos y el Grafo"
   ]
  },
  {
   "cell_type": "code",
   "execution_count": 11,
   "metadata": {},
   "outputs": [],
   "source": [
    "def readAdjl(fn):\n",
    "  with urllib.request.urlopen(fn) as f:\n",
    "    L = []\n",
    "    for line in f:\n",
    "        L.append(list(map(int, line.strip().split())))\n",
    "  return L"
   ]
  },
  {
   "cell_type": "code",
   "execution_count": 12,
   "metadata": {},
   "outputs": [],
   "source": [
    "def coordToIndex(coord, size):\n",
    "    return coord[0] * size + coord[1]"
   ]
  },
  {
   "cell_type": "code",
   "execution_count": 13,
   "metadata": {},
   "outputs": [],
   "source": [
    "def readCoords(fn, size):\n",
    "  arr = []\n",
    "  with urllib.request.urlopen(fn) as f:\n",
    "    for line in f:\n",
    "      coord = list(map(int, (line.decode(\"utf-8\").strip().split(\";\"))))\n",
    "      arr.append(coordToIndex(coord,size))\n",
    "  return arr"
   ]
  },
  {
   "cell_type": "code",
   "execution_count": 14,
   "metadata": {},
   "outputs": [],
   "source": [
    "urlAlmacen = 'https://raw.githubusercontent.com/Alejandro-Huaman/cc41_tf_201910144_201910708_20161c743_202010807_201710251/main/almacenes.csv'\n",
    "urlEntrega = 'https://raw.githubusercontent.com/Alejandro-Huaman/cc41_tf_201910144_201910708_20161c743_202010807_201710251/main/puntos_entrega.csv'\n",
    "urlAdjList = 'https://raw.githubusercontent.com/Alejandro-Huaman/cc41_tf_201910144_201910708_20161c743_202010807_201710251/main/Lista%20de%20Adyacencia/adjList.in'\n",
    "\n",
    "G = readAdjl(urlAdjList)\n",
    "P_Almacen = readCoords(urlAlmacen, 1000)\n",
    "P_Entrega = readCoords(urlEntrega, 1000)"
   ]
  },
  {
   "cell_type": "markdown",
   "metadata": {},
   "source": [
    "# Algoritmo Prim"
   ]
  },
  {
   "cell_type": "code",
   "execution_count": 29,
   "metadata": {},
   "outputs": [],
   "source": [
    "def prim(G,p_a):\n",
    "  n = len(G)\n",
    "  visited = [False]*n\n",
    "  path = [-1]*n\n",
    "  cost = [math.inf]*n\n",
    "  q = [(0, p_a)]\n",
    "  while q:\n",
    "    _, u = hq.heappop(q)\n",
    "    if not visited[u]:\n",
    "      visited[u] = True\n",
    "      for v in G[u]:\n",
    "        if not visited[v] and 1 < cost[v]:\n",
    "          cost[v] = 1\n",
    "          path[v] = u\n",
    "          hq.heappush(q, (1, v))\n",
    "\n",
    "  return path, cost"
   ]
  },
  {
   "cell_type": "markdown",
   "metadata": {},
   "source": [
    "# Camino del punto de almacen hacia el punto de entrega"
   ]
  },
  {
   "cell_type": "code",
   "execution_count": 30,
   "metadata": {},
   "outputs": [],
   "source": [
    "def WayToPoint(p_e, init): \n",
    "   tr = [p_e] #trayectoria \n",
    "   aux = path[p_e] - p_e \n",
    "\n",
    "   while (p_e != None): \n",
    "      parent = path[p_e] \n",
    "      if parent != None and parent - p_e != aux: \n",
    "         tr.append(p_e) \n",
    "         break \n",
    "      p_e = parent \n",
    "\n",
    "   tr.append(init) \n",
    "   tr.reverse() \n",
    "   return tr"
   ]
  },
  {
   "cell_type": "markdown",
   "metadata": {},
   "source": [
    "# Retorno del algoritmo prim desde mis Almacenes hacia todos los puntos de entrega  "
   ]
  },
  {
   "cell_type": "code",
   "execution_count": 34,
   "metadata": {},
   "outputs": [
    {
     "name": "stdout",
     "output_type": "stream",
     "text": [
      "\n"
     ]
    }
   ],
   "source": [
    "for index in range(len(P_Almacen)):\n",
    "    p_a = P_Almacen[index]\n",
    "    path, cost = prim(G,p_a)\n",
    "    arrCaminos = []\n",
    "    for p_e in P_Entrega:\n",
    "        arrCaminos.append(WayToPoint(p_e,p_a))\n",
    "    #Retorno de los puntos de almacen y el camino hacia los puntos de entrega\n",
    "    print(f\"almacen {index} ({p_a}): {arrCaminos}\")"
   ]
  }
 ],
 "metadata": {
  "interpreter": {
   "hash": "eb3816d2bff3711a443b9643aeb503bd34e1b917d8f568ecf7a17400e6f1829e"
  },
  "kernelspec": {
   "display_name": "Python 3.9.6 64-bit",
   "language": "python",
   "name": "python3"
  },
  "language_info": {
   "codemirror_mode": {
    "name": "ipython",
    "version": 3
   },
   "file_extension": ".py",
   "mimetype": "text/x-python",
   "name": "python",
   "nbconvert_exporter": "python",
   "pygments_lexer": "ipython3",
   "version": "3.9.6"
  },
  "orig_nbformat": 4
 },
 "nbformat": 4,
 "nbformat_minor": 2
}
